{
 "cells": [
  {
   "cell_type": "markdown",
   "metadata": {},
   "source": [
    "# Сбор и сортировка данных\n",
    "Здесь собираются и сортируются данные из нижеприведенных таблиц"
   ]
  },
  {
   "cell_type": "code",
   "execution_count": 1,
   "metadata": {},
   "outputs": [],
   "source": [
    "import pandas as pd\n",
    "import matplotlib.pyplot as plt\n",
    "\n",
    "%matplotlib inline"
   ]
  },
  {
   "cell_type": "markdown",
   "metadata": {},
   "source": [
    "Импортируем таблицы"
   ]
  },
  {
   "cell_type": "code",
   "execution_count": 2,
   "metadata": {},
   "outputs": [],
   "source": [
    "sovest=pd.read_excel(\"C:/Users/Ренат/Desktop/Sovest/01_Sovest.xlsx\")"
   ]
  },
  {
   "cell_type": "code",
   "execution_count": 3,
   "metadata": {},
   "outputs": [],
   "source": [
    "fps=pd.read_excel(\"C:/Users/Ренат/Desktop/Sovest/02_FPS.xlsx\")"
   ]
  },
  {
   "cell_type": "markdown",
   "metadata": {},
   "source": [
    "Таблицы afs будут загружены позже, т.к. для их нормировки необходим более оптимальный алгоритм.\n",
    "\n",
    "- afs_1_1=pd.read_excel(\"C:/Users/Ренат/Desktop/Project/04_AFS-1.xlsx\", 'list-1')\n",
    "- afs_1_2=pd.read_excel(\"C:/Users/Ренат/Desktop/Project/04_AFS-1.xlsx\", 'list-2')\n",
    "- afs_2=pd.read_excel(\"C:/Users/Ренат/Desktop/Project/04_AFS-2.xlsx\")"
   ]
  },
  {
   "cell_type": "code",
   "execution_count": 4,
   "metadata": {},
   "outputs": [],
   "source": [
    "geoval=pd.read_csv(\"C:/Users/Ренат/Desktop/Sovest/06_geoval.csv\", delimiter=',')"
   ]
  },
  {
   "cell_type": "code",
   "execution_count": 5,
   "metadata": {},
   "outputs": [],
   "source": [
    "score=pd.read_csv(\"C:/Users/Ренат/Desktop/Sovest/07_score.csv\", delimiter=',')"
   ]
  },
  {
   "cell_type": "code",
   "execution_count": 6,
   "metadata": {},
   "outputs": [],
   "source": [
    "bd_score=pd.read_csv(\"C:/Users/Ренат/Desktop/Sovest/08_bd_score.csv\", delimiter=',')"
   ]
  },
  {
   "cell_type": "markdown",
   "metadata": {},
   "source": [
    "Получаем информацию по каждой из таблиц. И удаляем ненужные столбцы из них.\n",
    "Информацию по переменным можно посмотреть тут: https://docs.google.com/document/d/1qYjopYc2cXhwd3tl_pw6eTSN3rB9Mp2kAwycnAYojAU/edit?usp=sharing"
   ]
  },
  {
   "cell_type": "markdown",
   "metadata": {},
   "source": [
    "###### Таблица 01_Sovest.xlsx"
   ]
  },
  {
   "cell_type": "code",
   "execution_count": 7,
   "metadata": {},
   "outputs": [
    {
     "data": {
      "text/html": [
       "<div>\n",
       "<style scoped>\n",
       "    .dataframe tbody tr th:only-of-type {\n",
       "        vertical-align: middle;\n",
       "    }\n",
       "\n",
       "    .dataframe tbody tr th {\n",
       "        vertical-align: top;\n",
       "    }\n",
       "\n",
       "    .dataframe thead th {\n",
       "        text-align: right;\n",
       "    }\n",
       "</style>\n",
       "<table border=\"1\" class=\"dataframe\">\n",
       "  <thead>\n",
       "    <tr style=\"text-align: right;\">\n",
       "      <th></th>\n",
       "      <th>RequestNum</th>\n",
       "      <th>RequestDate</th>\n",
       "      <th>PersonStatus</th>\n",
       "      <th>SignIP</th>\n",
       "      <th>FilialCode</th>\n",
       "      <th>Requeststatus</th>\n",
       "      <th>ProductName</th>\n",
       "      <th>FirstRequestDate</th>\n",
       "      <th>FirstStatusRequest</th>\n",
       "      <th>LastRequestDate</th>\n",
       "      <th>...</th>\n",
       "      <th>CreditLimit</th>\n",
       "      <th>Residence</th>\n",
       "      <th>ScoreFICO</th>\n",
       "      <th>CreditHistoryStopFactors</th>\n",
       "      <th>contractdate</th>\n",
       "      <th>kategoriya_marshrut</th>\n",
       "      <th>Dohod</th>\n",
       "      <th>Rashod</th>\n",
       "      <th>PTI</th>\n",
       "      <th>30+</th>\n",
       "    </tr>\n",
       "  </thead>\n",
       "  <tbody>\n",
       "    <tr>\n",
       "      <th>0</th>\n",
       "      <td>0002_69__002171</td>\n",
       "      <td>2019-01-09</td>\n",
       "      <td>Одобрен</td>\n",
       "      <td>NaN</td>\n",
       "      <td>2</td>\n",
       "      <td>Выдан кредит</td>\n",
       "      <td>Карта рассрочки 'Совесть'</td>\n",
       "      <td>NaT</td>\n",
       "      <td>NaN</td>\n",
       "      <td>NaT</td>\n",
       "      <td>...</td>\n",
       "      <td>32779.95</td>\n",
       "      <td>город</td>\n",
       "      <td>NaN</td>\n",
       "      <td>0.0</td>\n",
       "      <td>NaT</td>\n",
       "      <td>Скоринг</td>\n",
       "      <td>25000.0</td>\n",
       "      <td>0.00</td>\n",
       "      <td>0.0000</td>\n",
       "      <td>1.0</td>\n",
       "    </tr>\n",
       "    <tr>\n",
       "      <th>1</th>\n",
       "      <td>0002_69__069920</td>\n",
       "      <td>2019-02-28</td>\n",
       "      <td>Одобрен</td>\n",
       "      <td>NaN</td>\n",
       "      <td>2</td>\n",
       "      <td>Выдан кредит</td>\n",
       "      <td>Карта рассрочки 'Совесть'</td>\n",
       "      <td>NaT</td>\n",
       "      <td>NaN</td>\n",
       "      <td>NaT</td>\n",
       "      <td>...</td>\n",
       "      <td>62066.84</td>\n",
       "      <td>город</td>\n",
       "      <td>549.0</td>\n",
       "      <td>0.0</td>\n",
       "      <td>NaT</td>\n",
       "      <td>Скоринг</td>\n",
       "      <td>70000.0</td>\n",
       "      <td>31053.86</td>\n",
       "      <td>0.4436</td>\n",
       "      <td>1.0</td>\n",
       "    </tr>\n",
       "    <tr>\n",
       "      <th>2</th>\n",
       "      <td>0002_69__062487</td>\n",
       "      <td>2019-02-24</td>\n",
       "      <td>Одобрен</td>\n",
       "      <td>NaN</td>\n",
       "      <td>2</td>\n",
       "      <td>Выдан кредит</td>\n",
       "      <td>Карта рассрочки 'Совесть'</td>\n",
       "      <td>NaT</td>\n",
       "      <td>NaN</td>\n",
       "      <td>NaT</td>\n",
       "      <td>...</td>\n",
       "      <td>57376.20</td>\n",
       "      <td>город</td>\n",
       "      <td>602.0</td>\n",
       "      <td>0.0</td>\n",
       "      <td>NaT</td>\n",
       "      <td>Скоринг</td>\n",
       "      <td>32000.0</td>\n",
       "      <td>0.00</td>\n",
       "      <td>0.0000</td>\n",
       "      <td>1.0</td>\n",
       "    </tr>\n",
       "    <tr>\n",
       "      <th>3</th>\n",
       "      <td>0002_69__051416</td>\n",
       "      <td>2019-02-17</td>\n",
       "      <td>Одобрен</td>\n",
       "      <td>NaN</td>\n",
       "      <td>2</td>\n",
       "      <td>Выдан кредит</td>\n",
       "      <td>Карта рассрочки 'Совесть'</td>\n",
       "      <td>NaT</td>\n",
       "      <td>NaN</td>\n",
       "      <td>NaT</td>\n",
       "      <td>...</td>\n",
       "      <td>50285.13</td>\n",
       "      <td>город</td>\n",
       "      <td>531.0</td>\n",
       "      <td>0.0</td>\n",
       "      <td>NaT</td>\n",
       "      <td>Скоринг</td>\n",
       "      <td>30000.0</td>\n",
       "      <td>900.20</td>\n",
       "      <td>0.0300</td>\n",
       "      <td>1.0</td>\n",
       "    </tr>\n",
       "    <tr>\n",
       "      <th>4</th>\n",
       "      <td>0002_69__029594</td>\n",
       "      <td>2019-02-01</td>\n",
       "      <td>Одобрен</td>\n",
       "      <td>NaN</td>\n",
       "      <td>2</td>\n",
       "      <td>Выдан кредит</td>\n",
       "      <td>Карта рассрочки 'Совесть'</td>\n",
       "      <td>NaT</td>\n",
       "      <td>NaN</td>\n",
       "      <td>NaT</td>\n",
       "      <td>...</td>\n",
       "      <td>55879.95</td>\n",
       "      <td>город</td>\n",
       "      <td>NaN</td>\n",
       "      <td>0.0</td>\n",
       "      <td>NaT</td>\n",
       "      <td>Скоринг</td>\n",
       "      <td>36000.0</td>\n",
       "      <td>0.00</td>\n",
       "      <td>0.0000</td>\n",
       "      <td>1.0</td>\n",
       "    </tr>\n",
       "  </tbody>\n",
       "</table>\n",
       "<p>5 rows × 57 columns</p>\n",
       "</div>"
      ],
      "text/plain": [
       "        RequestNum RequestDate PersonStatus  SignIP  FilialCode Requeststatus  \\\n",
       "0  0002_69__002171  2019-01-09      Одобрен     NaN           2  Выдан кредит   \n",
       "1  0002_69__069920  2019-02-28      Одобрен     NaN           2  Выдан кредит   \n",
       "2  0002_69__062487  2019-02-24      Одобрен     NaN           2  Выдан кредит   \n",
       "3  0002_69__051416  2019-02-17      Одобрен     NaN           2  Выдан кредит   \n",
       "4  0002_69__029594  2019-02-01      Одобрен     NaN           2  Выдан кредит   \n",
       "\n",
       "                 ProductName FirstRequestDate FirstStatusRequest  \\\n",
       "0  Карта рассрочки 'Совесть'              NaT                NaN   \n",
       "1  Карта рассрочки 'Совесть'              NaT                NaN   \n",
       "2  Карта рассрочки 'Совесть'              NaT                NaN   \n",
       "3  Карта рассрочки 'Совесть'              NaT                NaN   \n",
       "4  Карта рассрочки 'Совесть'              NaT                NaN   \n",
       "\n",
       "  LastRequestDate  ... CreditLimit  Residence  ScoreFICO  \\\n",
       "0             NaT  ...    32779.95      город        NaN   \n",
       "1             NaT  ...    62066.84      город      549.0   \n",
       "2             NaT  ...    57376.20      город      602.0   \n",
       "3             NaT  ...    50285.13      город      531.0   \n",
       "4             NaT  ...    55879.95      город        NaN   \n",
       "\n",
       "  CreditHistoryStopFactors contractdate  kategoriya_marshrut    Dohod  \\\n",
       "0                      0.0          NaT              Скоринг  25000.0   \n",
       "1                      0.0          NaT              Скоринг  70000.0   \n",
       "2                      0.0          NaT              Скоринг  32000.0   \n",
       "3                      0.0          NaT              Скоринг  30000.0   \n",
       "4                      0.0          NaT              Скоринг  36000.0   \n",
       "\n",
       "     Rashod     PTI  30+  \n",
       "0      0.00  0.0000  1.0  \n",
       "1  31053.86  0.4436  1.0  \n",
       "2      0.00  0.0000  1.0  \n",
       "3    900.20  0.0300  1.0  \n",
       "4      0.00  0.0000  1.0  \n",
       "\n",
       "[5 rows x 57 columns]"
      ]
     },
     "execution_count": 7,
     "metadata": {},
     "output_type": "execute_result"
    }
   ],
   "source": [
    "sovest.head()"
   ]
  },
  {
   "cell_type": "code",
   "execution_count": 8,
   "metadata": {},
   "outputs": [
    {
     "name": "stdout",
     "output_type": "stream",
     "text": [
      "<class 'pandas.core.frame.DataFrame'>\n",
      "RangeIndex: 56645 entries, 0 to 56644\n",
      "Data columns (total 57 columns):\n",
      " #   Column                                                                        Non-Null Count  Dtype         \n",
      "---  ------                                                                        --------------  -----         \n",
      " 0   APPLICID                                                                      56645 non-null  object        \n",
      " 1   RequestDate                                                                   56645 non-null  datetime64[ns]\n",
      " 2   PersonStatus                                                                  51782 non-null  object        \n",
      " 3   SignIP                                                                        0 non-null      float64       \n",
      " 4   FilialCode                                                                    56645 non-null  int64         \n",
      " 5   Requeststatus                                                                 56645 non-null  object        \n",
      " 6   ProductName                                                                   56645 non-null  object        \n",
      " 7   FirstRequestDate                                                              3164 non-null   datetime64[ns]\n",
      " 8   FirstStatusRequest                                                            3164 non-null   object        \n",
      " 9   LastRequestDate                                                               1420 non-null   datetime64[ns]\n",
      " 10  LastStatusRequest                                                             1420 non-null   object        \n",
      " 11  CreditSum                                                                     56645 non-null  float64       \n",
      " 12  ApprovedCreditSum                                                             56645 non-null  float64       \n",
      " 13  LimitType                                                                     56645 non-null  object        \n",
      " 14  sex                                                                           56645 non-null  object        \n",
      " 15  age                                                                           56645 non-null  int64         \n",
      " 16  AddressIdentical                                                              56645 non-null  object        \n",
      " 17  RegRegionName                                                                 56645 non-null  object        \n",
      " 18  RegSettlement                                                                 11386 non-null  object        \n",
      " 19  RegCity                                                                       47912 non-null  object        \n",
      " 20  PeriodOfRegionResidence                                                       56645 non-null  object        \n",
      " 21  FactRegionName                                                                56645 non-null  object        \n",
      " 22  FactSettlement                                                                7092 non-null   object        \n",
      " 23  FactCity                                                                      52295 non-null  object        \n",
      " 24  EducationStatus                                                               56645 non-null  object        \n",
      " 25  FamilyStatus                                                                  52359 non-null  object        \n",
      " 26  otrasl_rabotodatelya                                                          35428 non-null  object        \n",
      " 27  OrgStanding                                                                   56645 non-null  object        \n",
      " 28  IsBankWorker                                                                  56645 non-null  object        \n",
      " 29  HaveSalaryCard                                                                56645 non-null  object        \n",
      " 30  nalichie_administrativnogo_pravonarusheniya_s_lisheniem_prava_upravleniya_ts  56645 non-null  object        \n",
      " 31  nalichie_dtp_za_poslednie_3_goda                                              56645 non-null  object        \n",
      " 32  kolichestvo_detej_mladshe_18                                                  56645 non-null  int64         \n",
      " 33  MonthlyIncome                                                                 56645 non-null  int64         \n",
      " 34  ConfirmedMonthlyIncome                                                        56645 non-null  float64       \n",
      " 35  SumOtherPayment                                                               56645 non-null  int64         \n",
      " 36  CountRequest                                                                  56645 non-null  int64         \n",
      " 37  NumberDay                                                                     1420 non-null   float64       \n",
      " 38  ProductNameLastRequest                                                        1420 non-null   object        \n",
      " 39  ProductPenultimateRequest                                                     483 non-null    object        \n",
      " 40  lastDateRejectRequest                                                         988 non-null    datetime64[ns]\n",
      " 41  CountRejectRequestLastMonth                                                   56645 non-null  int64         \n",
      " 42  CountRejectRequestLast3Month                                                  56645 non-null  int64         \n",
      " 43  CountRejectRequestLast6Month                                                  56645 non-null  int64         \n",
      " 44  CountRejectRequestLast12Month                                                 56645 non-null  int64         \n",
      " 45  MontlyPaymentBKI                                                              37567 non-null  float64       \n",
      " 46  MontlyPaymentAbbCredit                                                        445 non-null    float64       \n",
      " 47  CreditLimit                                                                   56645 non-null  float64       \n",
      " 48  Residence                                                                     56645 non-null  object        \n",
      " 49  ScoreFICO                                                                     30132 non-null  float64       \n",
      " 50  CreditHistoryStopFactors                                                      43644 non-null  float64       \n",
      " 51  contractdate                                                                  3073 non-null   datetime64[ns]\n",
      " 52  kategoriya_marshrut                                                           56645 non-null  object        \n",
      " 53  Dohod                                                                         56645 non-null  float64       \n",
      " 54  Rashod                                                                        56645 non-null  float64       \n",
      " 55  PTI                                                                           56644 non-null  float64       \n",
      " 56  30+                                                                           367 non-null    float64       \n",
      "dtypes: datetime64[ns](5), float64(14), int64(10), object(28)\n",
      "memory usage: 24.6+ MB\n"
     ]
    },
    {
     "data": {
      "text/plain": [
       "True"
      ]
     },
     "execution_count": 8,
     "metadata": {},
     "output_type": "execute_result"
    }
   ],
   "source": [
    "sovest.rename(columns={'RequestNum': 'APPLICID'}, inplace=True)\n",
    "sovest.shape\n",
    "sovest.info()\n",
    "sovest.isnull().any().any()"
   ]
  },
  {
   "cell_type": "code",
   "execution_count": 9,
   "metadata": {},
   "outputs": [],
   "source": [
    "sovest=sovest.drop(['SignIP', 'FilialCode', 'RequestDate', 'ProductName', 'PersonStatus', 'FirstRequestDate', \n",
    "                    'FirstStatusRequest', 'LastRequestDate', 'LastStatusRequest', 'Requeststatus', \n",
    "                    'ProductNameLastRequest', 'ProductPenultimateRequest', 'CreditSum', 'LimitType', 'RegSettlement', \n",
    "                    'RegRegionName', 'RegCity', 'PeriodOfRegionResidence', 'FactRegionName', 'FactSettlement', \n",
    "                    'otrasl_rabotodatelya', 'MonthlyIncome', 'ProductNameLastRequest', 'ProductPenultimateRequest', \n",
    "                    'MontlyPaymentBKI', 'MontlyPaymentAbbCredit', 'Residence', 'contractdate', 'kategoriya_marshrut',\n",
    "                    'NumberDay', 'lastDateRejectRequest'], \n",
    "                   axis='columns')"
   ]
  },
  {
   "cell_type": "code",
   "execution_count": 10,
   "metadata": {},
   "outputs": [
    {
     "name": "stdout",
     "output_type": "stream",
     "text": [
      "<class 'pandas.core.frame.DataFrame'>\n",
      "RangeIndex: 56645 entries, 0 to 56644\n",
      "Data columns (total 28 columns):\n",
      " #   Column                                                                        Non-Null Count  Dtype  \n",
      "---  ------                                                                        --------------  -----  \n",
      " 0   APPLICID                                                                      56645 non-null  object \n",
      " 1   ApprovedCreditSum                                                             56645 non-null  float64\n",
      " 2   sex                                                                           56645 non-null  object \n",
      " 3   age                                                                           56645 non-null  int64  \n",
      " 4   AddressIdentical                                                              56645 non-null  object \n",
      " 5   FactCity                                                                      52295 non-null  object \n",
      " 6   EducationStatus                                                               56645 non-null  object \n",
      " 7   FamilyStatus                                                                  52359 non-null  object \n",
      " 8   OrgStanding                                                                   56645 non-null  object \n",
      " 9   IsBankWorker                                                                  56645 non-null  object \n",
      " 10  HaveSalaryCard                                                                56645 non-null  object \n",
      " 11  nalichie_administrativnogo_pravonarusheniya_s_lisheniem_prava_upravleniya_ts  56645 non-null  object \n",
      " 12  nalichie_dtp_za_poslednie_3_goda                                              56645 non-null  object \n",
      " 13  kolichestvo_detej_mladshe_18                                                  56645 non-null  int64  \n",
      " 14  ConfirmedMonthlyIncome                                                        56645 non-null  float64\n",
      " 15  SumOtherPayment                                                               56645 non-null  int64  \n",
      " 16  CountRequest                                                                  56645 non-null  int64  \n",
      " 17  CountRejectRequestLastMonth                                                   56645 non-null  int64  \n",
      " 18  CountRejectRequestLast3Month                                                  56645 non-null  int64  \n",
      " 19  CountRejectRequestLast6Month                                                  56645 non-null  int64  \n",
      " 20  CountRejectRequestLast12Month                                                 56645 non-null  int64  \n",
      " 21  CreditLimit                                                                   56645 non-null  float64\n",
      " 22  ScoreFICO                                                                     30132 non-null  float64\n",
      " 23  CreditHistoryStopFactors                                                      43644 non-null  float64\n",
      " 24  Dohod                                                                         56645 non-null  float64\n",
      " 25  Rashod                                                                        56645 non-null  float64\n",
      " 26  PTI                                                                           56644 non-null  float64\n",
      " 27  30+                                                                           367 non-null    float64\n",
      "dtypes: float64(9), int64(8), object(11)\n",
      "memory usage: 12.1+ MB\n"
     ]
    }
   ],
   "source": [
    "sovest.info()"
   ]
  },
  {
   "cell_type": "markdown",
   "metadata": {},
   "source": [
    "###### Таблица 02_FPS.xlsx"
   ]
  },
  {
   "cell_type": "code",
   "execution_count": 11,
   "metadata": {},
   "outputs": [
    {
     "data": {
      "text/html": [
       "<div>\n",
       "<style scoped>\n",
       "    .dataframe tbody tr th:only-of-type {\n",
       "        vertical-align: middle;\n",
       "    }\n",
       "\n",
       "    .dataframe tbody tr th {\n",
       "        vertical-align: top;\n",
       "    }\n",
       "\n",
       "    .dataframe thead th {\n",
       "        text-align: right;\n",
       "    }\n",
       "</style>\n",
       "<table border=\"1\" class=\"dataframe\">\n",
       "  <thead>\n",
       "    <tr style=\"text-align: right;\">\n",
       "      <th></th>\n",
       "      <th>APPLICID</th>\n",
       "      <th>STRATEGYID</th>\n",
       "      <th>THETIMESTAMP</th>\n",
       "      <th>APPLICID.1</th>\n",
       "      <th>FPSID</th>\n",
       "      <th>MAINRULES</th>\n",
       "      <th>MAINSCOREVALUE</th>\n",
       "    </tr>\n",
       "  </thead>\n",
       "  <tbody>\n",
       "    <tr>\n",
       "      <th>0</th>\n",
       "      <td>0002_69__000002</td>\n",
       "      <td>Sovest</td>\n",
       "      <td>2019-01-01 15:18:35.848</td>\n",
       "      <td>475e052d-4043-49a7-816b-a4831c399d58</td>\n",
       "      <td>8323</td>\n",
       "      <td>1.11=&gt;0;1.12=&gt;0;1.13=&gt;0;1.14=&gt;0;1.15=&gt;0;1.16=&gt;...</td>\n",
       "      <td>194</td>\n",
       "    </tr>\n",
       "    <tr>\n",
       "      <th>1</th>\n",
       "      <td>0002_69__000003</td>\n",
       "      <td>Sovest</td>\n",
       "      <td>2019-01-01 15:37:33.435</td>\n",
       "      <td>4ed6d76d-8d39-43d0-8702-a74ba7b4dcfe</td>\n",
       "      <td>8324</td>\n",
       "      <td>1.11=&gt;0;1.12=&gt;0;1.13=&gt;0;1.14=&gt;0;1.15=&gt;0;1.16=&gt;...</td>\n",
       "      <td>0</td>\n",
       "    </tr>\n",
       "    <tr>\n",
       "      <th>2</th>\n",
       "      <td>0002_69__000005</td>\n",
       "      <td>Sovest</td>\n",
       "      <td>2019-01-01 16:02:30.430</td>\n",
       "      <td>9b79a268-70a1-40ec-b7cb-c77edf040670</td>\n",
       "      <td>8325</td>\n",
       "      <td>1.11=&gt;0;1.12=&gt;0;1.13=&gt;0;1.14=&gt;0;1.15=&gt;0;1.16=&gt;...</td>\n",
       "      <td>0</td>\n",
       "    </tr>\n",
       "    <tr>\n",
       "      <th>3</th>\n",
       "      <td>0002_69__000006</td>\n",
       "      <td>Sovest</td>\n",
       "      <td>2019-01-01 17:25:00.716</td>\n",
       "      <td>a9fabe52-144f-4501-a34e-e12a61fe5178</td>\n",
       "      <td>8326</td>\n",
       "      <td>1.11=&gt;0;1.12=&gt;0;1.13=&gt;0;1.14=&gt;0;1.15=&gt;0;1.16=&gt;...</td>\n",
       "      <td>662</td>\n",
       "    </tr>\n",
       "    <tr>\n",
       "      <th>4</th>\n",
       "      <td>0002_69__000007</td>\n",
       "      <td>Sovest</td>\n",
       "      <td>2019-01-01 17:25:10.994</td>\n",
       "      <td>34c4be18-2953-4446-8ee2-46353a85831c</td>\n",
       "      <td>8327</td>\n",
       "      <td>1.11=&gt;0;1.12=&gt;0;1.13=&gt;0;1.14=&gt;0;1.15=&gt;0;1.16=&gt;...</td>\n",
       "      <td>114</td>\n",
       "    </tr>\n",
       "  </tbody>\n",
       "</table>\n",
       "</div>"
      ],
      "text/plain": [
       "          APPLICID STRATEGYID            THETIMESTAMP  \\\n",
       "0  0002_69__000002     Sovest 2019-01-01 15:18:35.848   \n",
       "1  0002_69__000003     Sovest 2019-01-01 15:37:33.435   \n",
       "2  0002_69__000005     Sovest 2019-01-01 16:02:30.430   \n",
       "3  0002_69__000006     Sovest 2019-01-01 17:25:00.716   \n",
       "4  0002_69__000007     Sovest 2019-01-01 17:25:10.994   \n",
       "\n",
       "                             APPLICID.1  FPSID  \\\n",
       "0  475e052d-4043-49a7-816b-a4831c399d58   8323   \n",
       "1  4ed6d76d-8d39-43d0-8702-a74ba7b4dcfe   8324   \n",
       "2  9b79a268-70a1-40ec-b7cb-c77edf040670   8325   \n",
       "3  a9fabe52-144f-4501-a34e-e12a61fe5178   8326   \n",
       "4  34c4be18-2953-4446-8ee2-46353a85831c   8327   \n",
       "\n",
       "                                           MAINRULES  MAINSCOREVALUE  \n",
       "0  1.11=>0;1.12=>0;1.13=>0;1.14=>0;1.15=>0;1.16=>...             194  \n",
       "1  1.11=>0;1.12=>0;1.13=>0;1.14=>0;1.15=>0;1.16=>...               0  \n",
       "2  1.11=>0;1.12=>0;1.13=>0;1.14=>0;1.15=>0;1.16=>...               0  \n",
       "3  1.11=>0;1.12=>0;1.13=>0;1.14=>0;1.15=>0;1.16=>...             662  \n",
       "4  1.11=>0;1.12=>0;1.13=>0;1.14=>0;1.15=>0;1.16=>...             114  "
      ]
     },
     "execution_count": 11,
     "metadata": {},
     "output_type": "execute_result"
    }
   ],
   "source": [
    "fps.head()"
   ]
  },
  {
   "cell_type": "code",
   "execution_count": 12,
   "metadata": {},
   "outputs": [
    {
     "name": "stdout",
     "output_type": "stream",
     "text": [
      "<class 'pandas.core.frame.DataFrame'>\n",
      "RangeIndex: 26207 entries, 0 to 26206\n",
      "Data columns (total 7 columns):\n",
      " #   Column          Non-Null Count  Dtype         \n",
      "---  ------          --------------  -----         \n",
      " 0   APPLICID        26207 non-null  object        \n",
      " 1   STRATEGYID      26207 non-null  object        \n",
      " 2   THETIMESTAMP    26207 non-null  datetime64[ns]\n",
      " 3   APPLICID.1      26207 non-null  object        \n",
      " 4   FPSID           26207 non-null  int64         \n",
      " 5   MAINRULES       26207 non-null  object        \n",
      " 6   MAINSCOREVALUE  26207 non-null  int64         \n",
      "dtypes: datetime64[ns](1), int64(2), object(4)\n",
      "memory usage: 1.4+ MB\n"
     ]
    },
    {
     "data": {
      "text/plain": [
       "False"
      ]
     },
     "execution_count": 12,
     "metadata": {},
     "output_type": "execute_result"
    }
   ],
   "source": [
    "fps.shape\n",
    "fps.info()\n",
    "fps.isnull().any().any()"
   ]
  },
  {
   "cell_type": "code",
   "execution_count": 13,
   "metadata": {},
   "outputs": [],
   "source": [
    "fps=fps.drop(['STRATEGYID', 'THETIMESTAMP', 'APPLICID.1', 'FPSID', 'MAINRULES'], axis='columns')"
   ]
  },
  {
   "cell_type": "markdown",
   "metadata": {},
   "source": [
    "###### Таблица 04_AFS-1.xlsx и 04_AFS-2.xlsx\n",
    "Эти таблицы содержат в себе много повторяющейся информации, необходимо: \n",
    "- Переопределить правила, назначив им вес\n",
    "- Суммировать эти правила по ключу APPLICID\n",
    "- Нормировать их сумму\n",
    "\n",
    "Пока эти требования не будут выполнены, мы данные таблицы в анализе не используем"
   ]
  },
  {
   "cell_type": "markdown",
   "metadata": {},
   "source": [
    "###### Таблица 06_geoval.csv"
   ]
  },
  {
   "cell_type": "code",
   "execution_count": 14,
   "metadata": {},
   "outputs": [
    {
     "data": {
      "text/html": [
       "<div>\n",
       "<style scoped>\n",
       "    .dataframe tbody tr th:only-of-type {\n",
       "        vertical-align: middle;\n",
       "    }\n",
       "\n",
       "    .dataframe tbody tr th {\n",
       "        vertical-align: top;\n",
       "    }\n",
       "\n",
       "    .dataframe thead th {\n",
       "        text-align: right;\n",
       "    }\n",
       "</style>\n",
       "<table border=\"1\" class=\"dataframe\">\n",
       "  <thead>\n",
       "    <tr style=\"text-align: right;\">\n",
       "      <th></th>\n",
       "      <th>APPLICID</th>\n",
       "      <th>bad_address_home</th>\n",
       "      <th>is_home100_v1</th>\n",
       "      <th>is_home500_v1</th>\n",
       "      <th>is_home1000_v1</th>\n",
       "      <th>is_home2000_v1</th>\n",
       "      <th>is_home100_v2</th>\n",
       "      <th>is_home500_v2</th>\n",
       "      <th>is_home1000_v2</th>\n",
       "      <th>is_home2000_v2</th>\n",
       "      <th>bad_address_work</th>\n",
       "      <th>is_work100_v1</th>\n",
       "      <th>is_work500_v1</th>\n",
       "      <th>is_work1000_v1</th>\n",
       "      <th>is_work2000_v1</th>\n",
       "      <th>is_work100_v2</th>\n",
       "      <th>is_work500_v2</th>\n",
       "      <th>is_work1000_v2</th>\n",
       "      <th>is_work2000_v2</th>\n",
       "    </tr>\n",
       "  </thead>\n",
       "  <tbody>\n",
       "    <tr>\n",
       "      <th>0</th>\n",
       "      <td>4585_01_6864_182400</td>\n",
       "      <td>0</td>\n",
       "      <td>1</td>\n",
       "      <td>1</td>\n",
       "      <td>1</td>\n",
       "      <td>1</td>\n",
       "      <td>1</td>\n",
       "      <td>1</td>\n",
       "      <td>1</td>\n",
       "      <td>1</td>\n",
       "      <td>0</td>\n",
       "      <td>1</td>\n",
       "      <td>0</td>\n",
       "      <td>0</td>\n",
       "      <td>0</td>\n",
       "      <td>1</td>\n",
       "      <td>0</td>\n",
       "      <td>0</td>\n",
       "      <td>0</td>\n",
       "    </tr>\n",
       "    <tr>\n",
       "      <th>1</th>\n",
       "      <td>4547_35_0274_182403</td>\n",
       "      <td>0</td>\n",
       "      <td>2</td>\n",
       "      <td>2</td>\n",
       "      <td>2</td>\n",
       "      <td>2</td>\n",
       "      <td>2</td>\n",
       "      <td>2</td>\n",
       "      <td>2</td>\n",
       "      <td>2</td>\n",
       "      <td>0</td>\n",
       "      <td>2</td>\n",
       "      <td>2</td>\n",
       "      <td>2</td>\n",
       "      <td>2</td>\n",
       "      <td>1</td>\n",
       "      <td>0</td>\n",
       "      <td>0</td>\n",
       "      <td>0</td>\n",
       "    </tr>\n",
       "    <tr>\n",
       "      <th>2</th>\n",
       "      <td>0039_35_5570_182404</td>\n",
       "      <td>0</td>\n",
       "      <td>2</td>\n",
       "      <td>2</td>\n",
       "      <td>2</td>\n",
       "      <td>2</td>\n",
       "      <td>2</td>\n",
       "      <td>2</td>\n",
       "      <td>2</td>\n",
       "      <td>2</td>\n",
       "      <td>0</td>\n",
       "      <td>2</td>\n",
       "      <td>2</td>\n",
       "      <td>2</td>\n",
       "      <td>2</td>\n",
       "      <td>2</td>\n",
       "      <td>2</td>\n",
       "      <td>2</td>\n",
       "      <td>2</td>\n",
       "    </tr>\n",
       "    <tr>\n",
       "      <th>3</th>\n",
       "      <td>4585_62_6864_182412</td>\n",
       "      <td>0</td>\n",
       "      <td>2</td>\n",
       "      <td>2</td>\n",
       "      <td>2</td>\n",
       "      <td>2</td>\n",
       "      <td>1</td>\n",
       "      <td>0</td>\n",
       "      <td>0</td>\n",
       "      <td>0</td>\n",
       "      <td>0</td>\n",
       "      <td>2</td>\n",
       "      <td>2</td>\n",
       "      <td>2</td>\n",
       "      <td>2</td>\n",
       "      <td>2</td>\n",
       "      <td>2</td>\n",
       "      <td>2</td>\n",
       "      <td>2</td>\n",
       "    </tr>\n",
       "    <tr>\n",
       "      <th>4</th>\n",
       "      <td>4577_01_0526_182427</td>\n",
       "      <td>0</td>\n",
       "      <td>2</td>\n",
       "      <td>2</td>\n",
       "      <td>2</td>\n",
       "      <td>2</td>\n",
       "      <td>1</td>\n",
       "      <td>0</td>\n",
       "      <td>0</td>\n",
       "      <td>0</td>\n",
       "      <td>0</td>\n",
       "      <td>2</td>\n",
       "      <td>2</td>\n",
       "      <td>2</td>\n",
       "      <td>2</td>\n",
       "      <td>1</td>\n",
       "      <td>1</td>\n",
       "      <td>0</td>\n",
       "      <td>0</td>\n",
       "    </tr>\n",
       "  </tbody>\n",
       "</table>\n",
       "</div>"
      ],
      "text/plain": [
       "              APPLICID  bad_address_home  is_home100_v1  is_home500_v1  \\\n",
       "0  4585_01_6864_182400                 0              1              1   \n",
       "1  4547_35_0274_182403                 0              2              2   \n",
       "2  0039_35_5570_182404                 0              2              2   \n",
       "3  4585_62_6864_182412                 0              2              2   \n",
       "4  4577_01_0526_182427                 0              2              2   \n",
       "\n",
       "   is_home1000_v1  is_home2000_v1  is_home100_v2  is_home500_v2  \\\n",
       "0               1               1              1              1   \n",
       "1               2               2              2              2   \n",
       "2               2               2              2              2   \n",
       "3               2               2              1              0   \n",
       "4               2               2              1              0   \n",
       "\n",
       "   is_home1000_v2  is_home2000_v2  bad_address_work  is_work100_v1  \\\n",
       "0               1               1                 0              1   \n",
       "1               2               2                 0              2   \n",
       "2               2               2                 0              2   \n",
       "3               0               0                 0              2   \n",
       "4               0               0                 0              2   \n",
       "\n",
       "   is_work500_v1  is_work1000_v1  is_work2000_v1  is_work100_v2  \\\n",
       "0              0               0               0              1   \n",
       "1              2               2               2              1   \n",
       "2              2               2               2              2   \n",
       "3              2               2               2              2   \n",
       "4              2               2               2              1   \n",
       "\n",
       "   is_work500_v2  is_work1000_v2  is_work2000_v2  \n",
       "0              0               0               0  \n",
       "1              0               0               0  \n",
       "2              2               2               2  \n",
       "3              2               2               2  \n",
       "4              1               0               0  "
      ]
     },
     "execution_count": 14,
     "metadata": {},
     "output_type": "execute_result"
    }
   ],
   "source": [
    "geoval.head()"
   ]
  },
  {
   "cell_type": "code",
   "execution_count": 15,
   "metadata": {},
   "outputs": [
    {
     "name": "stdout",
     "output_type": "stream",
     "text": [
      "<class 'pandas.core.frame.DataFrame'>\n",
      "RangeIndex: 191531 entries, 0 to 191530\n",
      "Data columns (total 19 columns):\n",
      " #   Column            Non-Null Count   Dtype \n",
      "---  ------            --------------   ----- \n",
      " 0   APPLICID          191531 non-null  object\n",
      " 1   bad_address_home  191531 non-null  int64 \n",
      " 2   is_home100_v1     191531 non-null  int64 \n",
      " 3   is_home500_v1     191531 non-null  int64 \n",
      " 4   is_home1000_v1    191531 non-null  int64 \n",
      " 5   is_home2000_v1    191531 non-null  int64 \n",
      " 6   is_home100_v2     191531 non-null  int64 \n",
      " 7   is_home500_v2     191531 non-null  int64 \n",
      " 8   is_home1000_v2    191531 non-null  int64 \n",
      " 9   is_home2000_v2    191531 non-null  int64 \n",
      " 10  bad_address_work  191531 non-null  int64 \n",
      " 11  is_work100_v1     191531 non-null  int64 \n",
      " 12  is_work500_v1     191531 non-null  int64 \n",
      " 13  is_work1000_v1    191531 non-null  int64 \n",
      " 14  is_work2000_v1    191531 non-null  int64 \n",
      " 15  is_work100_v2     191531 non-null  int64 \n",
      " 16  is_work500_v2     191531 non-null  int64 \n",
      " 17  is_work1000_v2    191531 non-null  int64 \n",
      " 18  is_work2000_v2    191531 non-null  int64 \n",
      "dtypes: int64(18), object(1)\n",
      "memory usage: 27.8+ MB\n"
     ]
    },
    {
     "data": {
      "text/plain": [
       "False"
      ]
     },
     "execution_count": 15,
     "metadata": {},
     "output_type": "execute_result"
    }
   ],
   "source": [
    "geoval.shape\n",
    "geoval.info()\n",
    "geoval.isnull().any().any()"
   ]
  },
  {
   "cell_type": "code",
   "execution_count": 16,
   "metadata": {},
   "outputs": [],
   "source": [
    "geoval=geoval.drop(['is_home100_v1', 'is_home500_v1', 'is_home1000_v1', 'is_home2000_v1', 'is_home100_v2', 'is_home500_v2', \n",
    "                    'is_home1000_v2', 'is_home2000_v2', 'is_work100_v1', 'is_work500_v1', 'is_work1000_v1', 'is_work2000_v1', \n",
    "                    'is_work100_v2', 'is_work500_v2', 'is_work1000_v2', 'is_work2000_v2'], axis='columns')"
   ]
  },
  {
   "cell_type": "markdown",
   "metadata": {},
   "source": [
    "###### Таблица 07_score.csv"
   ]
  },
  {
   "cell_type": "code",
   "execution_count": 17,
   "metadata": {},
   "outputs": [
    {
     "data": {
      "text/html": [
       "<div>\n",
       "<style scoped>\n",
       "    .dataframe tbody tr th:only-of-type {\n",
       "        vertical-align: middle;\n",
       "    }\n",
       "\n",
       "    .dataframe tbody tr th {\n",
       "        vertical-align: top;\n",
       "    }\n",
       "\n",
       "    .dataframe thead th {\n",
       "        text-align: right;\n",
       "    }\n",
       "</style>\n",
       "<table border=\"1\" class=\"dataframe\">\n",
       "  <thead>\n",
       "    <tr style=\"text-align: right;\">\n",
       "      <th></th>\n",
       "      <th>APPLICID</th>\n",
       "      <th>DATE_APP</th>\n",
       "      <th>SCORE</th>\n",
       "      <th>LIFETIME_BIN</th>\n",
       "      <th>BLOCK_DUR</th>\n",
       "      <th>BLOCK_CNT</th>\n",
       "      <th>CIRCLE</th>\n",
       "      <th>ALL_CLC</th>\n",
       "      <th>PAY_MAX</th>\n",
       "    </tr>\n",
       "  </thead>\n",
       "  <tbody>\n",
       "    <tr>\n",
       "      <th>0</th>\n",
       "      <td>4585_01_6864_182400</td>\n",
       "      <td>2018-09-01</td>\n",
       "      <td>0.094670</td>\n",
       "      <td>5.0</td>\n",
       "      <td>0.0</td>\n",
       "      <td>0.0</td>\n",
       "      <td>5.0</td>\n",
       "      <td>2.0</td>\n",
       "      <td>3.0</td>\n",
       "    </tr>\n",
       "    <tr>\n",
       "      <th>1</th>\n",
       "      <td>4547_35_0274_182403</td>\n",
       "      <td>2018-09-01</td>\n",
       "      <td>0.058379</td>\n",
       "      <td>5.0</td>\n",
       "      <td>0.0</td>\n",
       "      <td>0.0</td>\n",
       "      <td>5.0</td>\n",
       "      <td>3.0</td>\n",
       "      <td>3.0</td>\n",
       "    </tr>\n",
       "    <tr>\n",
       "      <th>2</th>\n",
       "      <td>0039_35_5570_182404</td>\n",
       "      <td>2018-09-01</td>\n",
       "      <td>0.049330</td>\n",
       "      <td>5.0</td>\n",
       "      <td>0.0</td>\n",
       "      <td>0.0</td>\n",
       "      <td>3.0</td>\n",
       "      <td>1.0</td>\n",
       "      <td>3.0</td>\n",
       "    </tr>\n",
       "    <tr>\n",
       "      <th>3</th>\n",
       "      <td>4585_62_6864_182412</td>\n",
       "      <td>2018-09-01</td>\n",
       "      <td>0.131479</td>\n",
       "      <td>5.0</td>\n",
       "      <td>2.0</td>\n",
       "      <td>1.0</td>\n",
       "      <td>4.0</td>\n",
       "      <td>2.0</td>\n",
       "      <td>3.0</td>\n",
       "    </tr>\n",
       "    <tr>\n",
       "      <th>4</th>\n",
       "      <td>4577_01_0526_182427</td>\n",
       "      <td>2018-09-01</td>\n",
       "      <td>0.065897</td>\n",
       "      <td>5.0</td>\n",
       "      <td>0.0</td>\n",
       "      <td>0.0</td>\n",
       "      <td>5.0</td>\n",
       "      <td>3.0</td>\n",
       "      <td>3.0</td>\n",
       "    </tr>\n",
       "  </tbody>\n",
       "</table>\n",
       "</div>"
      ],
      "text/plain": [
       "              APPLICID    DATE_APP     SCORE  LIFETIME_BIN  BLOCK_DUR  \\\n",
       "0  4585_01_6864_182400  2018-09-01  0.094670           5.0        0.0   \n",
       "1  4547_35_0274_182403  2018-09-01  0.058379           5.0        0.0   \n",
       "2  0039_35_5570_182404  2018-09-01  0.049330           5.0        0.0   \n",
       "3  4585_62_6864_182412  2018-09-01  0.131479           5.0        2.0   \n",
       "4  4577_01_0526_182427  2018-09-01  0.065897           5.0        0.0   \n",
       "\n",
       "   BLOCK_CNT  CIRCLE  ALL_CLC  PAY_MAX  \n",
       "0        0.0     5.0      2.0      3.0  \n",
       "1        0.0     5.0      3.0      3.0  \n",
       "2        0.0     3.0      1.0      3.0  \n",
       "3        1.0     4.0      2.0      3.0  \n",
       "4        0.0     5.0      3.0      3.0  "
      ]
     },
     "execution_count": 17,
     "metadata": {},
     "output_type": "execute_result"
    }
   ],
   "source": [
    "score.head()"
   ]
  },
  {
   "cell_type": "code",
   "execution_count": 18,
   "metadata": {},
   "outputs": [
    {
     "name": "stdout",
     "output_type": "stream",
     "text": [
      "<class 'pandas.core.frame.DataFrame'>\n",
      "RangeIndex: 191531 entries, 0 to 191530\n",
      "Data columns (total 9 columns):\n",
      " #   Column        Non-Null Count   Dtype  \n",
      "---  ------        --------------   -----  \n",
      " 0   APPLICID      191531 non-null  object \n",
      " 1   DATE_APP      191531 non-null  object \n",
      " 2   SCORE         191531 non-null  float64\n",
      " 3   LIFETIME_BIN  191531 non-null  float64\n",
      " 4   BLOCK_DUR     191531 non-null  float64\n",
      " 5   BLOCK_CNT     191531 non-null  float64\n",
      " 6   CIRCLE        191531 non-null  float64\n",
      " 7   ALL_CLC       191531 non-null  float64\n",
      " 8   PAY_MAX       191531 non-null  float64\n",
      "dtypes: float64(7), object(2)\n",
      "memory usage: 13.2+ MB\n"
     ]
    },
    {
     "data": {
      "text/plain": [
       "False"
      ]
     },
     "execution_count": 18,
     "metadata": {},
     "output_type": "execute_result"
    }
   ],
   "source": [
    "score.shape\n",
    "score.info()\n",
    "score.isnull().any().any()"
   ]
  },
  {
   "cell_type": "code",
   "execution_count": 19,
   "metadata": {},
   "outputs": [],
   "source": [
    "score=score.drop(['DATE_APP'], axis='columns')"
   ]
  },
  {
   "cell_type": "markdown",
   "metadata": {},
   "source": [
    "###### Таблица 08_bd_score.csv"
   ]
  },
  {
   "cell_type": "code",
   "execution_count": 20,
   "metadata": {},
   "outputs": [
    {
     "data": {
      "text/html": [
       "<div>\n",
       "<style scoped>\n",
       "    .dataframe tbody tr th:only-of-type {\n",
       "        vertical-align: middle;\n",
       "    }\n",
       "\n",
       "    .dataframe tbody tr th {\n",
       "        vertical-align: top;\n",
       "    }\n",
       "\n",
       "    .dataframe thead th {\n",
       "        text-align: right;\n",
       "    }\n",
       "</style>\n",
       "<table border=\"1\" class=\"dataframe\">\n",
       "  <thead>\n",
       "    <tr style=\"text-align: right;\">\n",
       "      <th></th>\n",
       "      <th>APPLICID</th>\n",
       "      <th>DATE_OF_BIRTH</th>\n",
       "      <th>score_binary</th>\n",
       "      <th>score_proba</th>\n",
       "    </tr>\n",
       "  </thead>\n",
       "  <tbody>\n",
       "    <tr>\n",
       "      <th>0</th>\n",
       "      <td>0003_62_7630_185097</td>\n",
       "      <td>1965-09-04</td>\n",
       "      <td>0</td>\n",
       "      <td>0.250473</td>\n",
       "    </tr>\n",
       "    <tr>\n",
       "      <th>1</th>\n",
       "      <td>0078_35_0763_184321</td>\n",
       "      <td>1988-06-20</td>\n",
       "      <td>0</td>\n",
       "      <td>0.393628</td>\n",
       "    </tr>\n",
       "    <tr>\n",
       "      <th>2</th>\n",
       "      <td>9316_01_6621_185186</td>\n",
       "      <td>1970-01-25</td>\n",
       "      <td>0</td>\n",
       "      <td>0.454605</td>\n",
       "    </tr>\n",
       "    <tr>\n",
       "      <th>3</th>\n",
       "      <td>0039_01_4989_188062</td>\n",
       "      <td>1991-02-08</td>\n",
       "      <td>0</td>\n",
       "      <td>0.331633</td>\n",
       "    </tr>\n",
       "    <tr>\n",
       "      <th>4</th>\n",
       "      <td>0288_01_879_187973</td>\n",
       "      <td>1979-01-29</td>\n",
       "      <td>0</td>\n",
       "      <td>0.176938</td>\n",
       "    </tr>\n",
       "  </tbody>\n",
       "</table>\n",
       "</div>"
      ],
      "text/plain": [
       "              APPLICID DATE_OF_BIRTH  score_binary  score_proba\n",
       "0  0003_62_7630_185097    1965-09-04             0     0.250473\n",
       "1  0078_35_0763_184321    1988-06-20             0     0.393628\n",
       "2  9316_01_6621_185186    1970-01-25             0     0.454605\n",
       "3  0039_01_4989_188062    1991-02-08             0     0.331633\n",
       "4   0288_01_879_187973    1979-01-29             0     0.176938"
      ]
     },
     "execution_count": 20,
     "metadata": {},
     "output_type": "execute_result"
    }
   ],
   "source": [
    "bd_score.head()"
   ]
  },
  {
   "cell_type": "code",
   "execution_count": 21,
   "metadata": {},
   "outputs": [
    {
     "name": "stdout",
     "output_type": "stream",
     "text": [
      "<class 'pandas.core.frame.DataFrame'>\n",
      "RangeIndex: 189510 entries, 0 to 189509\n",
      "Data columns (total 4 columns):\n",
      " #   Column         Non-Null Count   Dtype  \n",
      "---  ------         --------------   -----  \n",
      " 0   APPLICID       189510 non-null  object \n",
      " 1   DATE_OF_BIRTH  189510 non-null  object \n",
      " 2   score_binary   189510 non-null  int64  \n",
      " 3   score_proba    152910 non-null  float64\n",
      "dtypes: float64(1), int64(1), object(2)\n",
      "memory usage: 5.8+ MB\n"
     ]
    },
    {
     "data": {
      "text/plain": [
       "True"
      ]
     },
     "execution_count": 21,
     "metadata": {},
     "output_type": "execute_result"
    }
   ],
   "source": [
    "bd_score.shape\n",
    "bd_score.info()\n",
    "bd_score.isnull().any().any()"
   ]
  },
  {
   "cell_type": "code",
   "execution_count": 22,
   "metadata": {},
   "outputs": [],
   "source": [
    "bd_score=bd_score.drop(['DATE_OF_BIRTH'], axis='columns')"
   ]
  },
  {
   "cell_type": "markdown",
   "metadata": {},
   "source": [
    "Объединяем таблицы в одну"
   ]
  },
  {
   "cell_type": "code",
   "execution_count": 23,
   "metadata": {},
   "outputs": [],
   "source": [
    "result=pd.merge(sovest, fps, on=('APPLICID'), how='left')\n",
    "result=pd.merge(result, score, on=('APPLICID'), how='left')\n",
    "result=pd.merge(result, geoval, on=('APPLICID'), how='left')\n",
    "result=pd.merge(result, bd_score, on=('APPLICID'), how='left')"
   ]
  },
  {
   "cell_type": "code",
   "execution_count": 24,
   "metadata": {
    "scrolled": false
   },
   "outputs": [
    {
     "name": "stdout",
     "output_type": "stream",
     "text": [
      "<class 'pandas.core.frame.DataFrame'>\n",
      "Int64Index: 56646 entries, 0 to 56645\n",
      "Data columns (total 40 columns):\n",
      " #   Column                                                                        Non-Null Count  Dtype  \n",
      "---  ------                                                                        --------------  -----  \n",
      " 0   APPLICID                                                                      56646 non-null  object \n",
      " 1   ApprovedCreditSum                                                             56646 non-null  float64\n",
      " 2   sex                                                                           56646 non-null  object \n",
      " 3   age                                                                           56646 non-null  int64  \n",
      " 4   AddressIdentical                                                              56646 non-null  object \n",
      " 5   FactCity                                                                      52296 non-null  object \n",
      " 6   EducationStatus                                                               56646 non-null  object \n",
      " 7   FamilyStatus                                                                  52360 non-null  object \n",
      " 8   OrgStanding                                                                   56646 non-null  object \n",
      " 9   IsBankWorker                                                                  56646 non-null  object \n",
      " 10  HaveSalaryCard                                                                56646 non-null  object \n",
      " 11  nalichie_administrativnogo_pravonarusheniya_s_lisheniem_prava_upravleniya_ts  56646 non-null  object \n",
      " 12  nalichie_dtp_za_poslednie_3_goda                                              56646 non-null  object \n",
      " 13  kolichestvo_detej_mladshe_18                                                  56646 non-null  int64  \n",
      " 14  ConfirmedMonthlyIncome                                                        56646 non-null  float64\n",
      " 15  SumOtherPayment                                                               56646 non-null  int64  \n",
      " 16  CountRequest                                                                  56646 non-null  int64  \n",
      " 17  CountRejectRequestLastMonth                                                   56646 non-null  int64  \n",
      " 18  CountRejectRequestLast3Month                                                  56646 non-null  int64  \n",
      " 19  CountRejectRequestLast6Month                                                  56646 non-null  int64  \n",
      " 20  CountRejectRequestLast12Month                                                 56646 non-null  int64  \n",
      " 21  CreditLimit                                                                   56646 non-null  float64\n",
      " 22  ScoreFICO                                                                     30132 non-null  float64\n",
      " 23  CreditHistoryStopFactors                                                      43645 non-null  float64\n",
      " 24  Dohod                                                                         56646 non-null  float64\n",
      " 25  Rashod                                                                        56646 non-null  float64\n",
      " 26  PTI                                                                           56645 non-null  float64\n",
      " 27  30+                                                                           367 non-null    float64\n",
      " 28  MAINSCOREVALUE                                                                26207 non-null  float64\n",
      " 29  SCORE                                                                         56634 non-null  float64\n",
      " 30  LIFETIME_BIN                                                                  56634 non-null  float64\n",
      " 31  BLOCK_DUR                                                                     56634 non-null  float64\n",
      " 32  BLOCK_CNT                                                                     56634 non-null  float64\n",
      " 33  CIRCLE                                                                        56634 non-null  float64\n",
      " 34  ALL_CLC                                                                       56634 non-null  float64\n",
      " 35  PAY_MAX                                                                       56634 non-null  float64\n",
      " 36  bad_address_home                                                              56634 non-null  float64\n",
      " 37  bad_address_work                                                              56634 non-null  float64\n",
      " 38  score_binary                                                                  56380 non-null  float64\n",
      " 39  score_proba                                                                   43122 non-null  float64\n",
      "dtypes: float64(21), int64(8), object(11)\n",
      "memory usage: 17.7+ MB\n"
     ]
    }
   ],
   "source": [
    "result.info()"
   ]
  },
  {
   "cell_type": "code",
   "execution_count": 25,
   "metadata": {},
   "outputs": [],
   "source": [
    "result.to_excel('result.xlsx', index=False)"
   ]
  },
  {
   "cell_type": "markdown",
   "metadata": {},
   "source": [
    "Далее будет выполняться нормировка, стандартизация и дискретизация данных для последующего анализа"
   ]
  }
 ],
 "metadata": {
  "kernelspec": {
   "display_name": "Python 3",
   "language": "python",
   "name": "python3"
  },
  "language_info": {
   "codemirror_mode": {
    "name": "ipython",
    "version": 3
   },
   "file_extension": ".py",
   "mimetype": "text/x-python",
   "name": "python",
   "nbconvert_exporter": "python",
   "pygments_lexer": "ipython3",
   "version": "3.7.6"
  }
 },
 "nbformat": 4,
 "nbformat_minor": 4
}
